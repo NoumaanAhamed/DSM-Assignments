{
 "cells": [
  {
   "cell_type": "markdown",
   "id": "aa70b71a-3271-497f-bd25-247ddc67dc2f",
   "metadata": {},
   "source": [
    "Question 1"
   ]
  },
  {
   "cell_type": "code",
   "execution_count": 14,
   "id": "7fe5c1ef-43ed-48ea-ad88-021473e0629e",
   "metadata": {},
   "outputs": [
    {
     "name": "stdout",
     "output_type": "stream",
     "text": [
      "[('Virat Kohli', 24936), ('Jack Kallis', 25534), ('Ricky Ponting', 27483), ('Sachin Tendulkar', 34357)]\n"
     ]
    }
   ],
   "source": [
    "l = [('Sachin Tendulkar', 34357), ('Ricky Ponting', 27483), ('Jack Kallis', 25534), ('Virat Kohli', 24936)]\n",
    "l.sort(key = lambda x:x[1])\n",
    "print(l)"
   ]
  },
  {
   "cell_type": "markdown",
   "id": "a3525436-80a2-454c-9c16-0223473c58a0",
   "metadata": {},
   "source": [
    "Question 2"
   ]
  },
  {
   "cell_type": "code",
   "execution_count": 16,
   "id": "83d0a3ac-acf7-4a65-a531-cabbfe96e025",
   "metadata": {},
   "outputs": [
    {
     "name": "stdout",
     "output_type": "stream",
     "text": [
      "[1, 4, 9, 16, 25, 36, 49, 64, 81, 100]\n"
     ]
    }
   ],
   "source": [
    "mylist = [1, 2, 3, 4, 5, 6, 7, 8, 9, 10]\n",
    "print(list(map(lambda x:x**2,mylist)))"
   ]
  },
  {
   "cell_type": "markdown",
   "id": "923bee8b-6e49-4956-ad21-385e2aa8df2c",
   "metadata": {},
   "source": [
    "Question 3"
   ]
  },
  {
   "cell_type": "code",
   "execution_count": 20,
   "id": "469e5708-fa5b-4356-877e-0282e53337b4",
   "metadata": {},
   "outputs": [
    {
     "name": "stdout",
     "output_type": "stream",
     "text": [
      "('1', '2', '3', '4', '5', '6', '7', '8', '9', '10')\n"
     ]
    }
   ],
   "source": [
    "l = [1, 2, 3, 4, 5, 6, 7, 8, 9, 10]\n",
    "print(tuple(map(lambda x:str(x),l)))"
   ]
  },
  {
   "cell_type": "markdown",
   "id": "adfbca6e-a22e-4b11-acfd-a6967f4b9849",
   "metadata": {},
   "source": [
    "Question 4"
   ]
  },
  {
   "cell_type": "code",
   "execution_count": 25,
   "id": "8c6e6c1b-83d2-429b-b21f-90964bc4ea84",
   "metadata": {},
   "outputs": [
    {
     "name": "stdout",
     "output_type": "stream",
     "text": [
      "15511210043330985984000000\n"
     ]
    }
   ],
   "source": [
    "l = []\n",
    "from functools import reduce\n",
    "for i in range(1,26):\n",
    "    l.append(i)\n",
    "print(reduce(lambda x,y:x*y,l))"
   ]
  },
  {
   "cell_type": "markdown",
   "id": "8819395d-6971-435e-94ec-c85682158bd6",
   "metadata": {},
   "source": [
    "Question 5"
   ]
  },
  {
   "cell_type": "code",
   "execution_count": 29,
   "id": "357a6dcc-6657-4e29-9c4b-8a2dd140a710",
   "metadata": {},
   "outputs": [
    {
     "name": "stdout",
     "output_type": "stream",
     "text": [
      "[6, 60, 90, 120]\n"
     ]
    }
   ],
   "source": [
    "l = [2, 3, 6, 9, 27, 60, 90, 120, 55, 46]\n",
    "print(list(filter(lambda x : x%2 == 0 and x%3 == 0,l)))"
   ]
  },
  {
   "cell_type": "markdown",
   "id": "148d9f5b-17df-46f3-942d-8a0aa1b15452",
   "metadata": {},
   "source": [
    "Question 6"
   ]
  },
  {
   "cell_type": "code",
   "execution_count": null,
   "id": "e32a964f-df38-4a8a-97a2-bbc577212968",
   "metadata": {},
   "outputs": [],
   "source": [
    "l = ['python', 'php', 'aba', 'radar', 'level']\n",
    "print(list(filter(lambda x : x == x[::-1],)))"
   ]
  }
 ],
 "metadata": {
  "kernelspec": {
   "display_name": "Python 3 (ipykernel)",
   "language": "python",
   "name": "python3"
  },
  "language_info": {
   "codemirror_mode": {
    "name": "ipython",
    "version": 3
   },
   "file_extension": ".py",
   "mimetype": "text/x-python",
   "name": "python",
   "nbconvert_exporter": "python",
   "pygments_lexer": "ipython3",
   "version": "3.10.8"
  }
 },
 "nbformat": 4,
 "nbformat_minor": 5
}
