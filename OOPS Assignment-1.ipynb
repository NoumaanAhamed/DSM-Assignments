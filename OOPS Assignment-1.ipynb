{
 "cells": [
  {
   "cell_type": "markdown",
   "id": "daf191d6-1b69-4ccd-948d-dfc862897fd0",
   "metadata": {},
   "source": [
    "Question 1"
   ]
  },
  {
   "cell_type": "code",
   "execution_count": 1,
   "id": "4912f65b-6175-4cc3-b048-243128942e53",
   "metadata": {},
   "outputs": [
    {
     "name": "stdout",
     "output_type": "stream",
     "text": [
      "Hello\n"
     ]
    }
   ],
   "source": [
    "#class --> blueprint \n",
    "#objects --> entity created by class\n",
    "\n",
    "class hello: #class creation\n",
    "    def hi(self):\n",
    "        print(\"Hello\")\n",
    "        \n",
    "me = hello() #object creation\n",
    "me.hi()"
   ]
  },
  {
   "cell_type": "markdown",
   "id": "1e188f6e-1add-43ca-8e30-e6394a9a5f97",
   "metadata": {},
   "source": [
    "Question 2"
   ]
  },
  {
   "cell_type": "code",
   "execution_count": 2,
   "id": "36d12d49-a3db-48db-94f7-d20c375c7611",
   "metadata": {},
   "outputs": [],
   "source": [
    "# Polymorphism\n",
    "# Abstraction\n",
    "# Inheritance\n",
    "# Encapsulation"
   ]
  },
  {
   "cell_type": "markdown",
   "id": "5fa55850-048b-48a0-8f8d-04f27899fcbc",
   "metadata": {},
   "source": [
    "Question 3"
   ]
  },
  {
   "cell_type": "code",
   "execution_count": 3,
   "id": "3fef67c4-da50-4353-b98a-6b3039f864ae",
   "metadata": {},
   "outputs": [
    {
     "data": {
      "text/plain": [
       "5"
      ]
     },
     "execution_count": 3,
     "metadata": {},
     "output_type": "execute_result"
    }
   ],
   "source": [
    "#used for initialistion\n",
    "\n",
    "class init:\n",
    "    def __init__(self,a):\n",
    "        self.a = a\n",
    "        \n",
    "    def ret(self):\n",
    "        return self.a\n",
    "    \n",
    "sample = init(5) #parameter in init\n",
    "sample.ret()\n"
   ]
  },
  {
   "cell_type": "markdown",
   "id": "ce51e574-5e0d-4302-b547-dd94494068cc",
   "metadata": {},
   "source": [
    "Question 4"
   ]
  },
  {
   "cell_type": "code",
   "execution_count": 4,
   "id": "e2941a2f-8ede-43ef-89c0-4a32464699bb",
   "metadata": {},
   "outputs": [],
   "source": [
    "#To refer to the instance of the current class"
   ]
  },
  {
   "cell_type": "markdown",
   "id": "d7e6ea0b-708e-4ca0-8398-583ded5d62cd",
   "metadata": {},
   "source": [
    "Question 5"
   ]
  },
  {
   "cell_type": "code",
   "execution_count": 6,
   "id": "0629fd28-36c9-48d0-ace9-e61e9f34c43a",
   "metadata": {},
   "outputs": [
    {
     "name": "stdout",
     "output_type": "stream",
     "text": [
      "B\n",
      "m1\n",
      "m2\n"
     ]
    }
   ],
   "source": [
    "#child class inherits the property of parent class\n",
    "\n",
    "#single level inheritance in python\n",
    "\n",
    "class A:\n",
    "    def __init__(self):\n",
    "        print(\"A\")\n",
    "    def m1(self):\n",
    "        print(\"m1\")\n",
    "\n",
    "class B(A):\n",
    "    def __init__(self):\n",
    "        print(\"B\")\n",
    "    def m2(self):\n",
    "        print(\"m2\")\n",
    "\n",
    "b=B()\n",
    "b.m1()\n",
    "b.m2()"
   ]
  },
  {
   "cell_type": "code",
   "execution_count": 7,
   "id": "a9b0d282-5a51-4cdb-a146-637c337eecb6",
   "metadata": {},
   "outputs": [
    {
     "name": "stdout",
     "output_type": "stream",
     "text": [
      "C\n",
      "m1\n",
      "m2\n",
      "m3\n"
     ]
    }
   ],
   "source": [
    "#multiple inheritance in python\n",
    "\n",
    "class  A:\n",
    "    def __init__(self):\n",
    "        print(\"A\")\n",
    "    def m1(self):\n",
    "        print(\"m1\")\n",
    "\n",
    "class B:\n",
    "    def __init__(self):\n",
    "        print(\"B\")\n",
    "    def m2(self):\n",
    "        print(\"m2\")\n",
    "\n",
    "class C(A,B):\n",
    "    def __init__(self):\n",
    "        print(\"C\")\n",
    "    def m3(self):\n",
    "        print(\"m3\")\n",
    "\n",
    "c=C()\n",
    "c.m1()\n",
    "c.m2()\n",
    "c.m3()"
   ]
  },
  {
   "cell_type": "code",
   "execution_count": 8,
   "id": "3576af2f-661a-4fd7-9491-28d6f45ebbb6",
   "metadata": {},
   "outputs": [
    {
     "name": "stdout",
     "output_type": "stream",
     "text": [
      "C\n",
      "m1\n",
      "m2\n",
      "m3\n"
     ]
    }
   ],
   "source": [
    "\n",
    "#multilevel inheritance in python\n",
    "\n",
    "class A:\n",
    "    def __init__(self):\n",
    "        print(\"A\")\n",
    "    def m1(self):\n",
    "        print(\"m1\")\n",
    "\n",
    "class B(A):\n",
    "    def __init__(self):\n",
    "        print(\"B\")\n",
    "    def m2(self):\n",
    "        print(\"m2\")\n",
    "\n",
    "class C(B):\n",
    "    def __init__(self):\n",
    "        print(\"C\")\n",
    "    def m3(self):\n",
    "        print(\"m3\")\n",
    "\n",
    "c=C()\n",
    "c.m1()\n",
    "c.m2()\n",
    "c.m3()"
   ]
  },
  {
   "cell_type": "code",
   "execution_count": 9,
   "id": "4c04535f-8fcc-4782-bad2-3316dca8b798",
   "metadata": {},
   "outputs": [
    {
     "name": "stdout",
     "output_type": "stream",
     "text": [
      "C\n",
      "B\n",
      "m1\n",
      "m2\n",
      "m1\n",
      "m3\n"
     ]
    }
   ],
   "source": [
    "\n",
    "# hierarchical inheritance in python\n",
    "\n",
    "class A:\n",
    "    def __init__(self):\n",
    "        print(\"A\")\n",
    "    def m1(self):\n",
    "        print(\"m1\")\n",
    "\n",
    "class B(A):\n",
    "    def __init__(self):\n",
    "        print(\"B\")\n",
    "    def m2(self):\n",
    "        print(\"m2\")\n",
    "\n",
    "class C(A):\n",
    "    def __init__(self):\n",
    "        print(\"C\")\n",
    "    def m3(self):\n",
    "        print(\"m3\")\n",
    "\n",
    "c=C()\n",
    "b=B()\n",
    "b.m1()\n",
    "b.m2()\n",
    "c.m1()\n",
    "c.m3()\n"
   ]
  },
  {
   "cell_type": "code",
   "execution_count": 10,
   "id": "54f8fd09-9f24-468b-9503-24b0834d8c74",
   "metadata": {},
   "outputs": [
    {
     "name": "stdout",
     "output_type": "stream",
     "text": [
      "D\n",
      "m1\n",
      "m2\n",
      "m3\n",
      "m4\n"
     ]
    }
   ],
   "source": [
    "#hybrid inheritance in python\n",
    "\n",
    "\n",
    "class A:\n",
    "    def __init__(self):\n",
    "        print(\"A\")\n",
    "    def m1(self):\n",
    "        print(\"m1\")\n",
    "\n",
    "class B(A):\n",
    "    def __init__(self):\n",
    "        print(\"B\")\n",
    "    def m2(self):\n",
    "        print(\"m2\")\n",
    "\n",
    "class C(A):\n",
    "    def __init__(self):\n",
    "        print(\"C\")\n",
    "    def m3(self):\n",
    "        print(\"m3\")\n",
    "\n",
    "class D(B,C):\n",
    "    def __init__(self):\n",
    "        print(\"D\")\n",
    "    def m4(self):\n",
    "        print(\"m4\")\n",
    "\n",
    "d=D()\n",
    "d.m1()\n",
    "d.m2()\n",
    "d.m3()\n",
    "d.m4()"
   ]
  },
  {
   "cell_type": "code",
   "execution_count": null,
   "id": "2999587d-4779-4727-bb65-11768c62bde8",
   "metadata": {},
   "outputs": [],
   "source": []
  }
 ],
 "metadata": {
  "kernelspec": {
   "display_name": "Python 3 (ipykernel)",
   "language": "python",
   "name": "python3"
  },
  "language_info": {
   "codemirror_mode": {
    "name": "ipython",
    "version": 3
   },
   "file_extension": ".py",
   "mimetype": "text/x-python",
   "name": "python",
   "nbconvert_exporter": "python",
   "pygments_lexer": "ipython3",
   "version": "3.10.8"
  }
 },
 "nbformat": 4,
 "nbformat_minor": 5
}
