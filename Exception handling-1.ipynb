{
 "cells": [
  {
   "cell_type": "markdown",
   "id": "5e08b87d-3283-4df7-a9a6-e21e504e456a",
   "metadata": {},
   "source": [
    "Question 1"
   ]
  },
  {
   "cell_type": "code",
   "execution_count": 2,
   "id": "478808ad-b38e-48bf-a470-f9c4c893b5a3",
   "metadata": {},
   "outputs": [],
   "source": [
    "#exceptions occur during the runtime of a program due to error conditions,\n",
    "#while syntax errors are detected by the Python interpreter before the program runs, indicating issues with the code's syntax."
   ]
  },
  {
   "cell_type": "markdown",
   "id": "24e82aae-901f-458a-881d-0803f9381a79",
   "metadata": {},
   "source": [
    "Question 2"
   ]
  },
  {
   "cell_type": "code",
   "execution_count": 5,
   "id": "1e0409a0-a286-4eac-ad7d-122f98ffc29c",
   "metadata": {},
   "outputs": [
    {
     "name": "stdout",
     "output_type": "stream",
     "text": [
      "Divsion by zero error\n"
     ]
    }
   ],
   "source": [
    "#When an Exception is not handled it yields an error which stops the flow of execution of the program\n",
    "try:\n",
    "    b = 100/0\n",
    "except:\n",
    "    print(\"Divsion by zero error\")"
   ]
  },
  {
   "cell_type": "code",
   "execution_count": 6,
   "id": "7047ab1e-e086-4d2f-b7cb-5ad5410d60a8",
   "metadata": {},
   "outputs": [
    {
     "ename": "ZeroDivisionError",
     "evalue": "division by zero",
     "output_type": "error",
     "traceback": [
      "\u001b[0;31m---------------------------------------------------------------------------\u001b[0m",
      "\u001b[0;31mZeroDivisionError\u001b[0m                         Traceback (most recent call last)",
      "Cell \u001b[0;32mIn[6], line 1\u001b[0m\n\u001b[0;32m----> 1\u001b[0m b \u001b[38;5;241m=\u001b[39m \u001b[38;5;241;43m100\u001b[39;49m\u001b[38;5;241;43m/\u001b[39;49m\u001b[38;5;241;43m0\u001b[39;49m\n",
      "\u001b[0;31mZeroDivisionError\u001b[0m: division by zero"
     ]
    }
   ],
   "source": [
    "b = 100/0"
   ]
  },
  {
   "cell_type": "markdown",
   "id": "36db742e-dd85-40eb-8d97-75a82d5ddd80",
   "metadata": {},
   "source": [
    "Question 3"
   ]
  },
  {
   "cell_type": "code",
   "execution_count": 7,
   "id": "5650905e-cb15-43b3-9668-9a0316105fc3",
   "metadata": {},
   "outputs": [
    {
     "name": "stdout",
     "output_type": "stream",
     "text": [
      "division by zero\n",
      "Exception Caught\n"
     ]
    }
   ],
   "source": [
    "try:\n",
    "    a = 100\n",
    "    b =a/0\n",
    "except Exception as e:\n",
    "    print(e)\n",
    "finally:\n",
    "    print(\"Exception Caught\")"
   ]
  },
  {
   "cell_type": "markdown",
   "id": "ea0a54e3-9f72-4a68-9da8-5800737e3c08",
   "metadata": {},
   "source": [
    "Question 4"
   ]
  },
  {
   "cell_type": "code",
   "execution_count": 23,
   "id": "7d275f0d-ac62-4885-9858-a081d36cbaf8",
   "metadata": {},
   "outputs": [
    {
     "name": "stdout",
     "output_type": "stream",
     "text": [
      "Hello\n",
      "Hello,There is no error\n"
     ]
    }
   ],
   "source": [
    "try:\n",
    "    string1 = \"Hello\"\n",
    "    print(string1[0:7])\n",
    "except:\n",
    "    print(\"Error\")\n",
    "else:\n",
    "    print(\"Hello,There is no error\")#runs only if there is no error"
   ]
  },
  {
   "cell_type": "code",
   "execution_count": 26,
   "id": "04f7f638-5b11-4cc6-abbe-c51022bb96af",
   "metadata": {},
   "outputs": [
    {
     "name": "stdout",
     "output_type": "stream",
     "text": [
      "The file was not found.\n",
      "File operation completed.\n"
     ]
    }
   ],
   "source": [
    "file = None \n",
    "try:\n",
    "    file = open(\"example.txt\", \"r\")\n",
    "    contents = file.read()\n",
    "except FileNotFoundError:\n",
    "    print(\"The file was not found.\")\n",
    "except IOError:\n",
    "    print(\"An error occurred while reading the file.\")\n",
    "else:\n",
    "    print(\"File contents:\")\n",
    "    print(contents)\n",
    "finally:#runs regardless if error exists or not\n",
    "    if file:\n",
    "        file.close()\n",
    "    print(\"File operation completed.\")\n",
    "\n"
   ]
  },
  {
   "cell_type": "code",
   "execution_count": 36,
   "id": "2ab622c4-b6ba-4ff4-89f9-16a1c71dd396",
   "metadata": {},
   "outputs": [
    {
     "name": "stdin",
     "output_type": "stream",
     "text": [
      "Enter your age: -78\n"
     ]
    },
    {
     "name": "stdout",
     "output_type": "stream",
     "text": [
      "Caught custom exception: age cant be negative\n"
     ]
    }
   ],
   "source": [
    "class CustomException(Exception):\n",
    "    \n",
    "    # def __init__(self,msg):\n",
    "    #     self.msg = msg\n",
    "    pass\n",
    "\n",
    "# Raise a custom exception\n",
    "# raise CustomException(\"This is a custom exception.\")\n",
    "def validateAge(age):\n",
    "    if age < 0:\n",
    "        raise CustomException(\"age cant be negative\")\n",
    "    elif age > 200:\n",
    "        raise CustomException(\"age cant be too large\")\n",
    "    else:\n",
    "        print(\"Age is valid\")\n",
    "        \n",
    "try:\n",
    "    age = int(input(\"Enter your age:\"))\n",
    "    validateAge(age)\n",
    "except CustomException as error:\n",
    "    print(\"Caught custom exception:\", str(error))\n"
   ]
  },
  {
   "cell_type": "markdown",
   "id": "b0b33b25-6b13-4abf-b30f-6724a13402ff",
   "metadata": {},
   "source": [
    "Question 5"
   ]
  },
  {
   "cell_type": "code",
   "execution_count": null,
   "id": "ae35a2c0-e9a4-4105-8016-7a71004fb79d",
   "metadata": {},
   "outputs": [],
   "source": [
    "#Custom exceptions in Python are user-defined exception classes that allow you to define specific types of exceptions for your application or specific error scenarios. "
   ]
  },
  {
   "cell_type": "code",
   "execution_count": 38,
   "id": "e57d1839-0215-4c4d-b486-67163a74b1ea",
   "metadata": {},
   "outputs": [
    {
     "name": "stdout",
     "output_type": "stream",
     "text": [
      "Error: Cannot calculate square root of a negative number.\n"
     ]
    }
   ],
   "source": [
    "class InvalidInputError(Exception):\n",
    "    pass\n",
    "\n",
    "def calculate_square_root(number):\n",
    "    if number < 0:\n",
    "        raise InvalidInputError(\"Cannot calculate square root of a negative number.\")\n",
    "    \n",
    "    # Perform square root calculation\n",
    "\n",
    "try:\n",
    "    calculate_square_root(-4)\n",
    "except InvalidInputError as error:\n",
    "    print(\"Error:\", str(error))\n"
   ]
  },
  {
   "cell_type": "markdown",
   "id": "4b5c617e-8dda-4910-9e9a-dd05a590202e",
   "metadata": {},
   "source": [
    "Question 6"
   ]
  },
  {
   "cell_type": "code",
   "execution_count": 47,
   "id": "1d254130-b27a-4d8d-adcf-b37d128dde18",
   "metadata": {},
   "outputs": [
    {
     "name": "stdout",
     "output_type": "stream",
     "text": [
      "Error: Insufficient funds: Balance=1000, Amount=1500\n"
     ]
    }
   ],
   "source": [
    "class InsufficientFundsError(Exception):\n",
    "    def __init__(self, balance, amount):\n",
    "        self.balance = balance\n",
    "        self.amount = amount\n",
    "        super().__init__(f\"Insufficient funds: Balance={balance}, Amount={amount}\")\n",
    "\n",
    "def withdraw(balance, amount):\n",
    "    if amount > balance:\n",
    "        raise InsufficientFundsError(balance, amount)\n",
    "    else:\n",
    "        print(\"Withdrawal successful.\")\n",
    "\n",
    "try:\n",
    "    account_balance = 1000\n",
    "    withdrawal_amount = 1500\n",
    "    withdraw(account_balance, withdrawal_amount)\n",
    "except InsufficientFundsError as error:\n",
    "    print(\"Error:\", str(error))\n"
   ]
  },
  {
   "cell_type": "code",
   "execution_count": null,
   "id": "ad19cd40-ac1e-4ada-ad12-0fbac894dd54",
   "metadata": {},
   "outputs": [],
   "source": []
  },
  {
   "cell_type": "code",
   "execution_count": null,
   "id": "4d8eaa88-9b77-4092-99af-ef09fd97de77",
   "metadata": {},
   "outputs": [],
   "source": []
  }
 ],
 "metadata": {
  "kernelspec": {
   "display_name": "Python 3 (ipykernel)",
   "language": "python",
   "name": "python3"
  },
  "language_info": {
   "codemirror_mode": {
    "name": "ipython",
    "version": 3
   },
   "file_extension": ".py",
   "mimetype": "text/x-python",
   "name": "python",
   "nbconvert_exporter": "python",
   "pygments_lexer": "ipython3",
   "version": "3.10.8"
  }
 },
 "nbformat": 4,
 "nbformat_minor": 5
}
