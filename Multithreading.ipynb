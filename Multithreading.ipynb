{
 "cells": [
  {
   "cell_type": "markdown",
   "id": "3dcbf635-7851-43bc-8854-66ba2c1f84a4",
   "metadata": {},
   "source": [
    "Question 1"
   ]
  },
  {
   "cell_type": "code",
   "execution_count": 22,
   "id": "2542d56c-8b27-40e4-aa24-83e994203246",
   "metadata": {},
   "outputs": [
    {
     "name": "stdout",
     "output_type": "stream",
     "text": [
      "Finished\n",
      "Execution Time: 1.2553841639310122\n"
     ]
    }
   ],
   "source": [
    "import threading\n",
    "import time\n",
    "\n",
    "def calculate_sum():\n",
    "    sum = 0\n",
    "    for i in range(1, 10000000):\n",
    "        sum += i\n",
    "\n",
    "startTime = time.perf_counter()\n",
    "\n",
    "thread1 = threading.Thread(target=calculate_sum)\n",
    "thread2 = threading.Thread(target=calculate_sum)\n",
    "\n",
    "thread1.start()\n",
    "thread2.start()\n",
    "\n",
    "thread1.join()\n",
    "thread2.join()\n",
    "\n",
    "endTime = time.perf_counter()\n",
    "\n",
    "print(\"Finished\")\n",
    "print(\"Execution Time:\", endTime - startTime)"
   ]
  },
  {
   "cell_type": "markdown",
   "id": "fe2ef3bf-e271-4223-9633-8b583d62ba42",
   "metadata": {},
   "source": [
    "Question 2"
   ]
  },
  {
   "cell_type": "code",
   "execution_count": 23,
   "id": "075b5868-f148-4c76-8918-14cd404510f3",
   "metadata": {},
   "outputs": [],
   "source": [
    "#The threading module in Python is used for creating and managing threads in a multithreaded program."
   ]
  },
  {
   "cell_type": "code",
   "execution_count": 32,
   "id": "6bf6e6a8-5478-4362-80f0-5fa39c734807",
   "metadata": {},
   "outputs": [
    {
     "name": "stdout",
     "output_type": "stream",
     "text": [
      "Worker thread: Thread 1\n",
      "Worker thread: Thread 2\n",
      "Active threads: 8\n",
      "Current thread: MainThread\n",
      "Active threads:\n",
      "MainThread\n",
      "IOPub\n",
      "Heartbeat\n",
      "Thread-3 (_watch_pipe_fd)\n",
      "Thread-4 (_watch_pipe_fd)\n",
      "Control\n",
      "IPythonHistorySavingThread\n",
      "Thread-2\n"
     ]
    }
   ],
   "source": [
    "import threading\n",
    "\n",
    "def worker():\n",
    "    print(f\"Worker thread: {threading.current_thread().name}\")\n",
    "\n",
    "# Create and start multiple threads\n",
    "thread1 = threading.Thread(target=worker, name=\"Thread 1\")\n",
    "thread2 = threading.Thread(target=worker, name=\"Thread 2\")\n",
    "thread1.start()\n",
    "thread2.start()\n",
    "\n",
    "# Print the number of active threads\n",
    "print(\"Active threads:\", threading.active_count())\n",
    "\n",
    "# Print the details of the current thread\n",
    "current_thread = threading.current_thread()\n",
    "print(\"Current thread:\", current_thread.name)\n",
    "\n",
    "# Enumerate and print all active threads\n",
    "threads = threading.enumerate()\n",
    "print(\"Active threads:\")\n",
    "for thread in threads:\n",
    "    print(thread.name)\n",
    "    \n",
    "thread1.join()\n",
    "thread2.join()"
   ]
  },
  {
   "cell_type": "markdown",
   "id": "789e9d80-521a-4a73-b75b-ce0d31e9b170",
   "metadata": {},
   "source": [
    "Question 3"
   ]
  },
  {
   "cell_type": "code",
   "execution_count": null,
   "id": "0c5be78f-a3d6-47f5-80e8-882dcd03ee6f",
   "metadata": {},
   "outputs": [
    {
     "name": "stdout",
     "output_type": "stream",
     "text": [
      "Worker thread started\n",
      "Thread is alive: True\n",
      "Worker thread finished\n",
      "Thread is alive: False\n"
     ]
    }
   ],
   "source": [
    "import threading\n",
    "import time\n",
    "\n",
    "def worker():\n",
    "    print(\"Worker thread started\")\n",
    "    time.sleep(3)\n",
    "    print(\"Worker thread finished\")\n",
    "\n",
    "# Create and start a thread\n",
    "thread = threading.Thread(target=worker)\n",
    "thread.start() # start initiates run internally\n",
    "\n",
    "# Check if the thread is alive\n",
    "print(\"Thread is alive:\", thread.is_alive())\n",
    "\n",
    "# Wait for the thread to finish using join()\n",
    "thread.join()\n",
    "\n",
    "# Check if the thread is alive after join()\n",
    "print(\"Thread is alive:\", thread.is_alive())\n"
   ]
  },
  {
   "cell_type": "markdown",
   "id": "104dfd76-a47f-4105-920a-35707bb54306",
   "metadata": {},
   "source": [
    "Question 4"
   ]
  },
  {
   "cell_type": "code",
   "execution_count": 41,
   "id": "6ff76bdd-cab9-45dc-9a88-5cb86cf2b25f",
   "metadata": {},
   "outputs": [
    {
     "name": "stdout",
     "output_type": "stream",
     "text": [
      "[1, 4, 9, 16, 25]\n",
      "[1, 8, 27, 64, 125]\n"
     ]
    }
   ],
   "source": [
    "import threading\n",
    "\n",
    "x = [1,2,3,4,5]\n",
    "\n",
    "def square(x):\n",
    "    print(list(map(lambda x : x**2,x)))\n",
    "\n",
    "def cube(x):\n",
    "    print(list(map(lambda x : x**3,x)))\n",
    "\n",
    "thread1 = threading.Thread(target=square(x))\n",
    "thread2 = threading.Thread(target=cube(x))\n",
    "\n",
    "thread1.start()\n",
    "thread2.start()"
   ]
  },
  {
   "cell_type": "markdown",
   "id": "44141730-1f93-4a2c-952d-3c1faa87317e",
   "metadata": {},
   "source": [
    "Question 5"
   ]
  },
  {
   "cell_type": "code",
   "execution_count": 46,
   "id": "66d261cb-f531-4907-817b-ace08ca2474d",
   "metadata": {},
   "outputs": [],
   "source": [
    "#Advantages : performance,resource sharing\n",
    "#Disadvantages : complexity, increased overhead"
   ]
  },
  {
   "cell_type": "markdown",
   "id": "9b5c7123-5161-4883-a6e1-27ebb22ed726",
   "metadata": {},
   "source": [
    "Question 6"
   ]
  },
  {
   "cell_type": "code",
   "execution_count": 55,
   "id": "ca3969ac-56f9-4ead-a7ae-ab35adb1d9fd",
   "metadata": {},
   "outputs": [],
   "source": [
    "#A race condition occurs when the behavior of a program depends on the relative timing or interleaving of operations performed by multiple threads. \n",
    "#A deadlock occurs when two or more threads are blocked indefinitely, waiting for each other to release resources or take a specific action."
   ]
  }
 ],
 "metadata": {
  "kernelspec": {
   "display_name": "Python 3 (ipykernel)",
   "language": "python",
   "name": "python3"
  },
  "language_info": {
   "codemirror_mode": {
    "name": "ipython",
    "version": 3
   },
   "file_extension": ".py",
   "mimetype": "text/x-python",
   "name": "python",
   "nbconvert_exporter": "python",
   "pygments_lexer": "ipython3",
   "version": "3.10.8"
  }
 },
 "nbformat": 4,
 "nbformat_minor": 5
}
