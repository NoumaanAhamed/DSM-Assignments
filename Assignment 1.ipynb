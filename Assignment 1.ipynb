{
 "cells": [
  {
   "cell_type": "markdown",
   "id": "4999fed0-1eea-4f5e-ba15-a71e18a221b0",
   "metadata": {
    "tags": []
   },
   "source": [
    "Question 1"
   ]
  },
  {
   "cell_type": "code",
   "execution_count": null,
   "id": "5d15211c",
   "metadata": {
    "tags": []
   },
   "outputs": [],
   "source": [
    "strVar = \"Noumaan\"\n",
    "listVar = ["
   ]
  },
  {
   "cell_type": "markdown",
   "id": "6b7d8531-6e20-4029-8c22-ec3190d395e0",
   "metadata": {},
   "source": [
    "Question 2"
   ]
  },
  {
   "cell_type": "code",
   "execution_count": 14,
   "id": "1bae7fd7",
   "metadata": {
    "tags": []
   },
   "outputs": [
    {
     "data": {
      "text/plain": [
       "str"
      ]
     },
     "execution_count": 14,
     "metadata": {},
     "output_type": "execute_result"
    }
   ],
   "source": [
    "var1 = ''\n",
    "type(var1)"
   ]
  },
  {
   "cell_type": "code",
   "execution_count": 16,
   "id": "9dacc502-5de8-4e0f-8a48-58f56eafe08e",
   "metadata": {},
   "outputs": [
    {
     "data": {
      "text/plain": [
       "str"
      ]
     },
     "execution_count": 16,
     "metadata": {},
     "output_type": "execute_result"
    }
   ],
   "source": [
    "var2 = '[ DS , ML , Python]'\n",
    "type(var2)"
   ]
  },
  {
   "cell_type": "code",
   "execution_count": 18,
   "id": "268976fe-6dc4-4747-b75c-63b723166e0f",
   "metadata": {},
   "outputs": [
    {
     "data": {
      "text/plain": [
       "list"
      ]
     },
     "execution_count": 18,
     "metadata": {},
     "output_type": "execute_result"
    }
   ],
   "source": [
    "var3 = [ 'DS' , 'ML' , 'Python' ]\n",
    "type(var3)\n"
   ]
  },
  {
   "cell_type": "code",
   "execution_count": 25,
   "id": "1edcf971-e8ba-44df-bd40-300c6bee1ce8",
   "metadata": {},
   "outputs": [
    {
     "data": {
      "text/plain": [
       "float"
      ]
     },
     "execution_count": 25,
     "metadata": {},
     "output_type": "execute_result"
    }
   ],
   "source": [
    "var4 = 1.\n",
    "type(var4)"
   ]
  },
  {
   "cell_type": "markdown",
   "id": "b0cd6bc4-86f8-4edb-8509-029b8282b12b",
   "metadata": {},
   "source": [
    "Question 3"
   ]
  },
  {
   "cell_type": "code",
   "execution_count": 24,
   "id": "c47d7f77-550a-44ec-8344-cb1e29dcb980",
   "metadata": {},
   "outputs": [
    {
     "data": {
      "text/plain": [
       "81"
      ]
     },
     "execution_count": 24,
     "metadata": {},
     "output_type": "execute_result"
    }
   ],
   "source": [
    "3/4 #division\n",
    "3//4 #floor division\n",
    "3%4 #remainder\n",
    "3**4 #exponentiation\n"
   ]
  },
  {
   "cell_type": "markdown",
   "id": "2233f8d5-2a3e-4aa3-a035-cbeb0b97b640",
   "metadata": {},
   "source": [
    "Question 4"
   ]
  },
  {
   "cell_type": "code",
   "execution_count": 28,
   "id": "a103e056-892a-4dc4-9259-5913be1ceca9",
   "metadata": {},
   "outputs": [
    {
     "name": "stdout",
     "output_type": "stream",
     "text": [
      "1\n",
      "<class 'int'>\n",
      "___________________________________________\n",
      "two\n",
      "<class 'str'>\n",
      "___________________________________________\n",
      "3.0\n",
      "<class 'float'>\n",
      "___________________________________________\n",
      "four\n",
      "<class 'str'>\n",
      "___________________________________________\n",
      "[5]\n",
      "<class 'list'>\n",
      "___________________________________________\n",
      "(6,)\n",
      "<class 'tuple'>\n",
      "___________________________________________\n",
      "{7}\n",
      "<class 'set'>\n",
      "___________________________________________\n",
      "8\n",
      "<class 'str'>\n",
      "___________________________________________\n",
      "9\n",
      "<class 'int'>\n",
      "___________________________________________\n",
      "True\n",
      "<class 'bool'>\n",
      "___________________________________________\n"
     ]
    }
   ],
   "source": [
    "myList = [1,\"two\",3.0,'four',[5],(6,),{7},\"8\",9 + False,True]\n",
    "for i in myList:\n",
    "    print(i)\n",
    "    print(type(i))\n",
    "    print(\"___________________________________________\")"
   ]
  },
  {
   "cell_type": "markdown",
   "id": "2581fc81-397b-44d2-ab93-3590f777eb6d",
   "metadata": {},
   "source": [
    "Question 5"
   ]
  },
  {
   "cell_type": "code",
   "execution_count": 31,
   "id": "f7dc4bf9-d103-44b8-8e80-e8abedd79a54",
   "metadata": {},
   "outputs": [
    {
     "name": "stdin",
     "output_type": "stream",
     "text": [
      "Enter number A: 8\n",
      "Enter number B: 2\n"
     ]
    },
    {
     "name": "stdout",
     "output_type": "stream",
     "text": [
      "8 Is divisible 4 times\n"
     ]
    }
   ],
   "source": [
    "numA = int(input(\"Enter number A:\"))\n",
    "numB = int(input(\"Enter number B:\"))\n",
    "while numA%numB == 0:\n",
    "    print(numA,\"Is divisible\",int(numA/numB),\"times\")\n",
    "    break    "
   ]
  },
  {
   "cell_type": "markdown",
   "id": "7836bd8a-b3cb-4729-bacb-8a8ecaba1a13",
   "metadata": {},
   "source": [
    "Question 6"
   ]
  },
  {
   "cell_type": "code",
   "execution_count": 35,
   "id": "40016719-60bf-486c-b018-f1bfa7f45b8a",
   "metadata": {},
   "outputs": [
    {
     "name": "stdout",
     "output_type": "stream",
     "text": [
      "1 is not divisible by 3\n",
      "2 is not divisible by 3\n",
      "3 is divisible by 3\n",
      "4 is not divisible by 3\n",
      "5 is not divisible by 3\n",
      "6 is divisible by 3\n",
      "7 is not divisible by 3\n",
      "8 is not divisible by 3\n",
      "9 is divisible by 3\n",
      "10 is not divisible by 3\n",
      "11 is not divisible by 3\n",
      "12 is divisible by 3\n",
      "13 is not divisible by 3\n",
      "14 is not divisible by 3\n",
      "15 is divisible by 3\n",
      "16 is not divisible by 3\n",
      "17 is not divisible by 3\n",
      "18 is divisible by 3\n",
      "19 is not divisible by 3\n",
      "20 is not divisible by 3\n",
      "21 is divisible by 3\n",
      "22 is not divisible by 3\n",
      "23 is not divisible by 3\n",
      "24 is divisible by 3\n",
      "25 is not divisible by 3\n"
     ]
    }
   ],
   "source": [
    "newList = []\n",
    "for i in range(1,26):\n",
    "    newList.append(i)\n",
    "for i in newList:\n",
    "    if(i%3 == 0):\n",
    "        print(i,\"is divisible by 3\")\n",
    "    else:\n",
    "        print(i,\"is not divisible by 3\")"
   ]
  },
  {
   "cell_type": "markdown",
   "id": "7cdcd2b5-3a64-4ab6-a5f7-a73faa93c900",
   "metadata": {},
   "source": [
    "Question 7"
   ]
  },
  {
   "cell_type": "code",
   "execution_count": 36,
   "id": "213d2c13-93bc-47a8-83ad-3b771b1408fd",
   "metadata": {},
   "outputs": [
    {
     "ename": "TypeError",
     "evalue": "'tuple' object does not support item assignment",
     "output_type": "error",
     "traceback": [
      "\u001b[0;31m---------------------------------------------------------------------------\u001b[0m",
      "\u001b[0;31mTypeError\u001b[0m                                 Traceback (most recent call last)",
      "Cell \u001b[0;32mIn[36], line 5\u001b[0m\n\u001b[1;32m      2\u001b[0m immutType \u001b[38;5;241m=\u001b[39m(\u001b[38;5;241m1\u001b[39m,\u001b[38;5;241m2\u001b[39m,\u001b[38;5;241m3\u001b[39m)\n\u001b[1;32m      4\u001b[0m mutType[\u001b[38;5;241m1\u001b[39m]\u001b[38;5;241m=\u001b[39m\u001b[38;5;241m4\u001b[39m\n\u001b[0;32m----> 5\u001b[0m \u001b[43mimmutType\u001b[49m\u001b[43m[\u001b[49m\u001b[38;5;241;43m1\u001b[39;49m\u001b[43m]\u001b[49m\u001b[38;5;241m=\u001b[39m\u001b[38;5;241m4\u001b[39m\n",
      "\u001b[0;31mTypeError\u001b[0m: 'tuple' object does not support item assignment"
     ]
    }
   ],
   "source": [
    "mutType = [1,2,3]\n",
    "immutType =(1,2,3)\n",
    "\n",
    "mutType[1] = 4 #No error\n",
    "immutType[1] = 4 #Error"
   ]
  }
 ],
 "metadata": {
  "kernelspec": {
   "display_name": "Python 3 (ipykernel)",
   "language": "python",
   "name": "python3"
  },
  "language_info": {
   "codemirror_mode": {
    "name": "ipython",
    "version": 3
   },
   "file_extension": ".py",
   "mimetype": "text/x-python",
   "name": "python",
   "nbconvert_exporter": "python",
   "pygments_lexer": "ipython3",
   "version": "3.10.8"
  }
 },
 "nbformat": 4,
 "nbformat_minor": 5
}
