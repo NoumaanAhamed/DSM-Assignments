{
 "cells": [
  {
   "cell_type": "markdown",
   "id": "aa1710ad-e685-4f14-95ef-7ab16924ae82",
   "metadata": {},
   "source": [
    "Question 1"
   ]
  },
  {
   "cell_type": "code",
   "execution_count": 30,
   "id": "ac0f0ae8-63bc-47ef-810e-703d1c311cdf",
   "metadata": {},
   "outputs": [],
   "source": [
    "class vehicle:\n",
    "    \n",
    "    def __init__(self,name,max_speed,average_speed):\n",
    "        self.name = name\n",
    "        self.max_speed = max_speed\n",
    "        self.average_speed = average_speed\n",
    "        \n",
    "    def details(self):\n",
    "        return self.name,self.max_speed,self.average_speed"
   ]
  },
  {
   "cell_type": "code",
   "execution_count": 31,
   "id": "b4c910fb-ce4b-47c8-a92a-48a88aa026e5",
   "metadata": {},
   "outputs": [],
   "source": [
    "x = vehicle('toyota',100,25)"
   ]
  },
  {
   "cell_type": "code",
   "execution_count": 33,
   "id": "8a773de2-8c91-46c3-91d0-3e4ca59faa76",
   "metadata": {},
   "outputs": [
    {
     "data": {
      "text/plain": [
       "('toyota', 100, 25)"
      ]
     },
     "execution_count": 33,
     "metadata": {},
     "output_type": "execute_result"
    }
   ],
   "source": [
    "x.details()"
   ]
  },
  {
   "cell_type": "markdown",
   "id": "67197ff9-2543-4fac-8c21-fda8b07adc65",
   "metadata": {},
   "source": [
    "Question 2"
   ]
  },
  {
   "cell_type": "code",
   "execution_count": 42,
   "id": "e057a04b-88e4-407c-9411-1d9ab16b0f50",
   "metadata": {},
   "outputs": [],
   "source": [
    "class car(vehicle):\n",
    "    \n",
    "    # def __init__(self,capacity):\n",
    "        # self.capacity = capacity\n",
    "    \n",
    "    def seating_capacity(self,capacity):\n",
    "        return self.name,capacity"
   ]
  },
  {
   "cell_type": "code",
   "execution_count": 51,
   "id": "0b50e4ac-20ea-4cdc-8fc9-388a1322076c",
   "metadata": {},
   "outputs": [],
   "source": [
    "y = car(\"honda\",100,50)"
   ]
  },
  {
   "cell_type": "code",
   "execution_count": 56,
   "id": "beae0047-2e62-4db9-9e61-fdf6e09caf69",
   "metadata": {},
   "outputs": [
    {
     "data": {
      "text/plain": [
       "('honda', 4)"
      ]
     },
     "execution_count": 56,
     "metadata": {},
     "output_type": "execute_result"
    }
   ],
   "source": [
    "y.seating_capacity(4)"
   ]
  },
  {
   "cell_type": "code",
   "execution_count": 59,
   "id": "974ef5ff-44ce-4e90-be7e-60a442e20b87",
   "metadata": {},
   "outputs": [
    {
     "data": {
      "text/plain": [
       "('honda', 100, 50)"
      ]
     },
     "execution_count": 59,
     "metadata": {},
     "output_type": "execute_result"
    }
   ],
   "source": [
    "y.details()"
   ]
  },
  {
   "cell_type": "markdown",
   "id": "73fbda66-a7b6-4f0c-a0c1-c8911430910f",
   "metadata": {},
   "source": [
    "Question 3"
   ]
  },
  {
   "cell_type": "code",
   "execution_count": 61,
   "id": "7b66278f-ef05-4d01-852c-5daad851b7f2",
   "metadata": {},
   "outputs": [],
   "source": [
    "class a:\n",
    "    \n",
    "    def __init__(self,a):\n",
    "        self.a = a\n",
    "        \n",
    "    def ret(self):\n",
    "        return self.a"
   ]
  },
  {
   "cell_type": "code",
   "execution_count": 73,
   "id": "5982d367-ceed-4080-9d70-fdccfd36efb5",
   "metadata": {},
   "outputs": [],
   "source": [
    "class b:\n",
    "    \n",
    "    # def __init__(self,b):\n",
    "    #     self.a = b\n",
    "        \n",
    "    def retur(self):\n",
    "        return 10"
   ]
  },
  {
   "cell_type": "code",
   "execution_count": 79,
   "id": "011362c6-5154-4105-8f46-f34dca9999a9",
   "metadata": {},
   "outputs": [],
   "source": [
    "class c(a,b):\n",
    "    pass"
   ]
  },
  {
   "cell_type": "code",
   "execution_count": 81,
   "id": "b41e100c-f5a2-48d8-84db-8dfdbb72a0d7",
   "metadata": {},
   "outputs": [],
   "source": [
    "child = c(15)"
   ]
  },
  {
   "cell_type": "code",
   "execution_count": 82,
   "id": "87693058-2767-4c9b-b159-c02b103ec6e8",
   "metadata": {},
   "outputs": [
    {
     "data": {
      "text/plain": [
       "15"
      ]
     },
     "execution_count": 82,
     "metadata": {},
     "output_type": "execute_result"
    }
   ],
   "source": [
    "child.ret()"
   ]
  },
  {
   "cell_type": "code",
   "execution_count": 84,
   "id": "f96f8e98-fffa-44ce-af31-c22671b2d82e",
   "metadata": {},
   "outputs": [
    {
     "data": {
      "text/plain": [
       "10"
      ]
     },
     "execution_count": 84,
     "metadata": {},
     "output_type": "execute_result"
    }
   ],
   "source": [
    "child.retur()"
   ]
  },
  {
   "cell_type": "markdown",
   "id": "ffdf2f6e-57cc-4b0d-8959-96877d9e477c",
   "metadata": {},
   "source": [
    "Question 4"
   ]
  },
  {
   "cell_type": "code",
   "execution_count": null,
   "id": "fd9e17be-7c49-4653-9b36-72dca3426969",
   "metadata": {},
   "outputs": [],
   "source": [
    "class getset:\n",
    "    \n",
    "    def variables(self,a,b,c):\n",
    "        self.a = a\n",
    "        self.b = b\n",
    "        self.c = c\n",
    "    \n",
    "    "
   ]
  },
  {
   "cell_type": "code",
   "execution_count": 26,
   "id": "8564b152-0343-4cb5-b2a7-336b322eddfc",
   "metadata": {},
   "outputs": [],
   "source": [
    "class getset:\n",
    "    \n",
    "    def __init__(self,a,b,c):\n",
    "        self.__a = a\n",
    "        self.b = b\n",
    "        self.c = c\n",
    "    \n",
    "    @property\n",
    "    def geta(self):\n",
    "        return self.__a\n",
    "    \n",
    "    @geta.setter\n",
    "    def seta(self,a):\n",
    "        self.__a = a\n",
    "        \n",
    "#     def seta(self,a):\n",
    "#         self.__a = a\n",
    "        "
   ]
  },
  {
   "cell_type": "code",
   "execution_count": 27,
   "id": "85a38cc7-569e-4dcd-b61b-82d47c7d4df7",
   "metadata": {},
   "outputs": [],
   "source": [
    "var = getset(1,2,3)"
   ]
  },
  {
   "cell_type": "code",
   "execution_count": 28,
   "id": "adb83174-fe9e-4e4b-a9f2-d05718f5a60c",
   "metadata": {},
   "outputs": [
    {
     "data": {
      "text/plain": [
       "3"
      ]
     },
     "execution_count": 28,
     "metadata": {},
     "output_type": "execute_result"
    }
   ],
   "source": [
    "var.c"
   ]
  },
  {
   "cell_type": "code",
   "execution_count": 30,
   "id": "952ed869-8ca6-49b7-9d55-f1e7a3c062c7",
   "metadata": {},
   "outputs": [
    {
     "data": {
      "text/plain": [
       "1"
      ]
     },
     "execution_count": 30,
     "metadata": {},
     "output_type": "execute_result"
    }
   ],
   "source": [
    "var.geta"
   ]
  },
  {
   "cell_type": "code",
   "execution_count": 32,
   "id": "fcaec24f-4149-4e4e-89c1-23f74305b1ec",
   "metadata": {},
   "outputs": [],
   "source": [
    "var.seta = 7"
   ]
  },
  {
   "cell_type": "code",
   "execution_count": 34,
   "id": "956a879a-8610-4813-814a-53823292c391",
   "metadata": {},
   "outputs": [
    {
     "data": {
      "text/plain": [
       "7"
      ]
     },
     "execution_count": 34,
     "metadata": {},
     "output_type": "execute_result"
    }
   ],
   "source": [
    "var.geta"
   ]
  },
  {
   "cell_type": "markdown",
   "id": "62f80670-8c77-442e-85f4-e95c0fd469af",
   "metadata": {},
   "source": [
    "Question 5"
   ]
  },
  {
   "cell_type": "code",
   "execution_count": 36,
   "id": "6f03ee2c-2373-45e6-824d-a491b7ab2715",
   "metadata": {},
   "outputs": [],
   "source": [
    "class A:\n",
    "    def hello(self):\n",
    "        print(\"In A\")"
   ]
  },
  {
   "cell_type": "code",
   "execution_count": 37,
   "id": "137dc52a-8724-44ca-ba19-b7edbd4daffb",
   "metadata": {},
   "outputs": [],
   "source": [
    "class B:\n",
    "    def hello(self):\n",
    "        print(\"In B\")"
   ]
  },
  {
   "cell_type": "code",
   "execution_count": 38,
   "id": "35a14635-6a7d-4f7e-bf01-9214ef1e3c1f",
   "metadata": {},
   "outputs": [],
   "source": [
    "a = A()"
   ]
  },
  {
   "cell_type": "code",
   "execution_count": 39,
   "id": "6d077b09-469a-41f8-b710-1a51a4041473",
   "metadata": {},
   "outputs": [],
   "source": [
    "b = B()"
   ]
  },
  {
   "cell_type": "code",
   "execution_count": 41,
   "id": "108c944a-949f-4538-b902-734e973675de",
   "metadata": {},
   "outputs": [
    {
     "name": "stdout",
     "output_type": "stream",
     "text": [
      "In A\n"
     ]
    }
   ],
   "source": [
    "a.hello()"
   ]
  },
  {
   "cell_type": "code",
   "execution_count": 42,
   "id": "8ab6b10a-bc8d-4e3b-8c96-de3379c4a7d5",
   "metadata": {},
   "outputs": [
    {
     "name": "stdout",
     "output_type": "stream",
     "text": [
      "In B\n"
     ]
    }
   ],
   "source": [
    "b.hello()"
   ]
  },
  {
   "cell_type": "code",
   "execution_count": null,
   "id": "5e091bfe-fa82-4829-9d7e-da551587c3f6",
   "metadata": {},
   "outputs": [],
   "source": []
  }
 ],
 "metadata": {
  "kernelspec": {
   "display_name": "Python 3 (ipykernel)",
   "language": "python",
   "name": "python3"
  },
  "language_info": {
   "codemirror_mode": {
    "name": "ipython",
    "version": 3
   },
   "file_extension": ".py",
   "mimetype": "text/x-python",
   "name": "python",
   "nbconvert_exporter": "python",
   "pygments_lexer": "ipython3",
   "version": "3.10.8"
  }
 },
 "nbformat": 4,
 "nbformat_minor": 5
}
