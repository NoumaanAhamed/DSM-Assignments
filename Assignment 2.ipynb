{
 "cells": [
  {
   "cell_type": "markdown",
   "id": "cf385550-0990-4c76-8ac7-13655db18701",
   "metadata": {},
   "source": [
    "Question 1"
   ]
  },
  {
   "cell_type": "code",
   "execution_count": 1,
   "id": "26fc60a3-7429-40b9-9b69-d8a9d8162adf",
   "metadata": {},
   "outputs": [
    {
     "data": {
      "text/plain": [
       "' multi\\nline'"
      ]
     },
     "execution_count": 1,
     "metadata": {},
     "output_type": "execute_result"
    }
   ],
   "source": [
    "#single line\n",
    "''' multi\n",
    "line'''"
   ]
  },
  {
   "cell_type": "markdown",
   "id": "7f539165-ea26-4ed5-b149-ae45eb4d849c",
   "metadata": {},
   "source": [
    "Question 2"
   ]
  },
  {
   "cell_type": "code",
   "execution_count": 2,
   "id": "9c269050-a6bd-4694-9c44-1c9a75f88f32",
   "metadata": {},
   "outputs": [],
   "source": [
    "#variables store data\n",
    "var = 'hello'"
   ]
  },
  {
   "cell_type": "markdown",
   "id": "d6ae9fa6-8143-4c71-b336-0c0306ebd430",
   "metadata": {},
   "source": [
    "Question 3"
   ]
  },
  {
   "cell_type": "code",
   "execution_count": 4,
   "id": "013a75b5-4823-412e-9125-50226184b2d7",
   "metadata": {},
   "outputs": [
    {
     "name": "stdout",
     "output_type": "stream",
     "text": [
      "2.0\n"
     ]
    }
   ],
   "source": [
    "#type casting\n",
    "varInt = 2\n",
    "floatInt = float(varInt)\n",
    "print(floatInt)"
   ]
  },
  {
   "cell_type": "markdown",
   "id": "5643369a-3761-4318-9bb6-05991a9f2a40",
   "metadata": {},
   "source": [
    "Question 4"
   ]
  },
  {
   "cell_type": "code",
   "execution_count": 5,
   "id": "e5ba350c-48c6-4aba-a1d4-233d5466615e",
   "metadata": {},
   "outputs": [
    {
     "name": "stdout",
     "output_type": "stream",
     "text": [
      "[2, 3]\n"
     ]
    }
   ],
   "source": [
    "#python file.py"
   ]
  },
  {
   "cell_type": "markdown",
   "id": "8462a883-9bf2-44d9-9ad6-60e4a12dac37",
   "metadata": {},
   "source": [
    "Question 5"
   ]
  },
  {
   "cell_type": "code",
   "execution_count": 6,
   "id": "b430b056-16a6-4585-ae63-f54bc9e6037c",
   "metadata": {},
   "outputs": [
    {
     "name": "stdout",
     "output_type": "stream",
     "text": [
      "[2, 3]\n"
     ]
    }
   ],
   "source": [
    "my_list = [1,2,3,4,5]\n",
    "print(my_list[1:3])"
   ]
  },
  {
   "cell_type": "markdown",
   "id": "f245654e-2b88-4160-9dd5-87b9e2bb1c34",
   "metadata": {},
   "source": [
    "Question 6"
   ]
  },
  {
   "cell_type": "code",
   "execution_count": 7,
   "id": "c7d898d4-0da1-4af0-87fb-8ca920c1c79e",
   "metadata": {},
   "outputs": [
    {
     "data": {
      "text/plain": [
       "6.0"
      ]
     },
     "execution_count": 7,
     "metadata": {},
     "output_type": "execute_result"
    }
   ],
   "source": [
    "compNum = 6 + 9j\n",
    "compNum.real"
   ]
  },
  {
   "cell_type": "markdown",
   "id": "e9f80d01-aa9c-47a5-91ac-7396e5415294",
   "metadata": {},
   "source": [
    "Question 7"
   ]
  },
  {
   "cell_type": "code",
   "execution_count": 8,
   "id": "7e9847c9-0e1d-421a-ad0b-b4263083ed12",
   "metadata": {},
   "outputs": [
    {
     "name": "stdin",
     "output_type": "stream",
     "text": [
      "Enter Age: 25\n"
     ]
    }
   ],
   "source": [
    "age = int(input(\"Enter Age:\"))"
   ]
  },
  {
   "cell_type": "markdown",
   "id": "6748f0c7-4eb1-4bd5-92af-56f3600c5985",
   "metadata": {},
   "source": [
    "Question 8"
   ]
  },
  {
   "cell_type": "code",
   "execution_count": 9,
   "id": "4c5061f2-6d89-44b5-bd9a-8e6ce3ffdce5",
   "metadata": {},
   "outputs": [
    {
     "data": {
      "text/plain": [
       "float"
      ]
     },
     "execution_count": 9,
     "metadata": {},
     "output_type": "execute_result"
    }
   ],
   "source": [
    "price = 9.99\n",
    "type(price)"
   ]
  },
  {
   "cell_type": "markdown",
   "id": "2dc3e314-93aa-4e1b-afd3-d663ed269e1c",
   "metadata": {},
   "source": [
    "Question 9"
   ]
  },
  {
   "cell_type": "code",
   "execution_count": 10,
   "id": "d7db44b7-d899-42ef-be69-c38ea15c312e",
   "metadata": {},
   "outputs": [
    {
     "name": "stdout",
     "output_type": "stream",
     "text": [
      "Mohammed Noumaan\n"
     ]
    }
   ],
   "source": [
    "name = \"Mohammed Noumaan\"\n",
    "print(name)"
   ]
  },
  {
   "cell_type": "markdown",
   "id": "fc702e3d-6d1e-4f9e-b1ca-32582b361721",
   "metadata": {},
   "source": [
    "Question 10"
   ]
  },
  {
   "cell_type": "code",
   "execution_count": 14,
   "id": "9446d596-f09a-4ca9-bcc7-6b31dc6cc299",
   "metadata": {},
   "outputs": [
    {
     "data": {
      "text/plain": [
       "'World'"
      ]
     },
     "execution_count": 14,
     "metadata": {},
     "output_type": "execute_result"
    }
   ],
   "source": [
    "samText = \"Hello, World!\"\n",
    "samText[7:-1]"
   ]
  },
  {
   "cell_type": "markdown",
   "id": "fbb62158-6e86-4cb3-82b1-37141859da54",
   "metadata": {},
   "source": [
    "Question 11"
   ]
  },
  {
   "cell_type": "code",
   "execution_count": 15,
   "id": "2d7887fc-c740-4139-9383-fd91ea32b8c2",
   "metadata": {},
   "outputs": [
    {
     "name": "stdin",
     "output_type": "stream",
     "text": [
      "are you a student yes\n"
     ]
    },
    {
     "name": "stdout",
     "output_type": "stream",
     "text": [
      "True\n"
     ]
    }
   ],
   "source": [
    "is_student = False\n",
    "answer = input(\"are you a student\").lower()\n",
    "if answer == 'yes':\n",
    "    is_student = True\n",
    "print(is_student)"
   ]
  }
 ],
 "metadata": {
  "kernelspec": {
   "display_name": "Python 3 (ipykernel)",
   "language": "python",
   "name": "python3"
  },
  "language_info": {
   "codemirror_mode": {
    "name": "ipython",
    "version": 3
   },
   "file_extension": ".py",
   "mimetype": "text/x-python",
   "name": "python",
   "nbconvert_exporter": "python",
   "pygments_lexer": "ipython3",
   "version": "3.10.8"
  }
 },
 "nbformat": 4,
 "nbformat_minor": 5
}
