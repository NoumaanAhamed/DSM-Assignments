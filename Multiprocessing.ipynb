{
 "cells": [
  {
   "cell_type": "markdown",
   "id": "bd380f14-d0ca-4e82-82d6-7a5782e98e53",
   "metadata": {},
   "source": [
    "Question 1"
   ]
  },
  {
   "cell_type": "code",
   "execution_count": 1,
   "id": "250842bf-2188-4b65-9272-669a33acc1ba",
   "metadata": {},
   "outputs": [],
   "source": [
    "#Multiprocessing in Python refers to the ability to run multiple processes concurrently, where each process runs in its own separate memory space."
   ]
  },
  {
   "cell_type": "markdown",
   "id": "d4242953-4cca-4d17-8227-1532e987ce06",
   "metadata": {},
   "source": [
    "Question 2"
   ]
  },
  {
   "cell_type": "code",
   "execution_count": 2,
   "id": "9564529d-9422-498d-9a00-8e2e27b9970e",
   "metadata": {},
   "outputs": [],
   "source": [
    "#multiprocessing is suitable for CPU-bound tasks and taking advantage of multiple cores, while multithreading is more appropriate for I/O-bound tasks, concurrency within a single process, and simpler synchronization between threads."
   ]
  },
  {
   "cell_type": "markdown",
   "id": "8e8ef002-369b-4ae1-a5db-cec7e1425640",
   "metadata": {},
   "source": [
    "Question 3"
   ]
  },
  {
   "cell_type": "code",
   "execution_count": 4,
   "id": "6ba6cbb1-df33-4efe-8c89-190dd3added2",
   "metadata": {},
   "outputs": [
    {
     "name": "stdout",
     "output_type": "stream",
     "text": [
      "Hello, Alice!\n",
      "Process Completed\n"
     ]
    }
   ],
   "source": [
    "import multiprocessing\n",
    "\n",
    "def process_function(name):\n",
    "    print(f\"Hello, {name}!\")\n",
    "\n",
    "if __name__ == '__main__':\n",
    "    \n",
    "    process = multiprocessing.Process(target=process_function, args=('Alice',))\n",
    "    \n",
    "    process.start()\n",
    "    \n",
    "    process.join()\n",
    "    \n",
    "    print(\"Process Completed\")"
   ]
  },
  {
   "cell_type": "markdown",
   "id": "b4749dd7-435e-4ff2-9439-65188f97d0db",
   "metadata": {},
   "source": [
    "Question 4 and 5"
   ]
  },
  {
   "cell_type": "code",
   "execution_count": 5,
   "id": "0a07dd3d-23c3-4abc-a291-624302c6bb0e",
   "metadata": {},
   "outputs": [],
   "source": [
    "#A multiprocessing pool in Python refers to a pool of worker processes that are used to execute tasks concurrently."
   ]
  },
  {
   "cell_type": "code",
   "execution_count": 6,
   "id": "b80d5d18-e841-40c0-9097-2cd6915dba18",
   "metadata": {},
   "outputs": [
    {
     "name": "stdout",
     "output_type": "stream",
     "text": [
      "[1, 4, 9, 16, 25]\n"
     ]
    }
   ],
   "source": [
    "import multiprocessing\n",
    "\n",
    "def square(x):\n",
    "    return x ** 2\n",
    "\n",
    "if __name__ == '__main__':\n",
    "    # Create a multiprocessing pool with 4 worker processes\n",
    "    pool = multiprocessing.Pool(processes=4)\n",
    "\n",
    "    # Generate a list of input values\n",
    "    numbers = [1, 2, 3, 4, 5]\n",
    "\n",
    "    # Use the map() method to apply the square function to each input value\n",
    "    results = pool.map(square, numbers)\n",
    "\n",
    "    # Print the results\n",
    "    print(results)\n",
    "\n",
    "    # Close the pool\n",
    "    pool.close()\n",
    "    pool.join()\n"
   ]
  },
  {
   "cell_type": "markdown",
   "id": "80649b78-b2bb-4ce0-9edf-90898bfebd4e",
   "metadata": {},
   "source": [
    "Question 6"
   ]
  },
  {
   "cell_type": "code",
   "execution_count": 7,
   "id": "c24a744d-cc1b-43d4-8d4b-90f4ad77d04e",
   "metadata": {},
   "outputs": [
    {
     "name": "stdout",
     "output_type": "stream",
     "text": [
      "Process ID: 5867, Number: 1\n",
      "Process ID: 5870, Number: 2\n",
      "Process ID: 5875, Number: 3\n",
      "Process ID: 5882, Number: 4\n"
     ]
    }
   ],
   "source": [
    "import multiprocessing\n",
    "\n",
    "def print_numbers(number):\n",
    "    print(f\"Process ID: {multiprocessing.current_process().pid}, Number: {number}\")\n",
    "    \n",
    "if __name__ == '__main__':\n",
    "    processes = []\n",
    "    numbers = [1,2,3,4]\n",
    "    \n",
    "    for number in numbers:\n",
    "        process = multiprocessing.Process(target=print_numbers,args = (number,))\n",
    "        processes.append(process)\n",
    "        process.start()\n",
    "        \n",
    "    for process in processes:\n",
    "        process.join()\n",
    "    "
   ]
  },
  {
   "cell_type": "code",
   "execution_count": null,
   "id": "b1e3a9f0-5460-4587-98c5-ba5a62668f6d",
   "metadata": {},
   "outputs": [],
   "source": []
  }
 ],
 "metadata": {
  "kernelspec": {
   "display_name": "Python 3 (ipykernel)",
   "language": "python",
   "name": "python3"
  },
  "language_info": {
   "codemirror_mode": {
    "name": "ipython",
    "version": 3
   },
   "file_extension": ".py",
   "mimetype": "text/x-python",
   "name": "python",
   "nbconvert_exporter": "python",
   "pygments_lexer": "ipython3",
   "version": "3.10.8"
  }
 },
 "nbformat": 4,
 "nbformat_minor": 5
}
