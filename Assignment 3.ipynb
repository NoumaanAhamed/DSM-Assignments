{
 "cells": [
  {
   "cell_type": "markdown",
   "id": "7443fc91-f4fc-428a-a78b-740499e7fc60",
   "metadata": {},
   "source": [
    "Question 1"
   ]
  },
  {
   "cell_type": "code",
   "execution_count": 2,
   "id": "b8e0ba08-ad82-46eb-9c2f-f7a6860f23bf",
   "metadata": {},
   "outputs": [
    {
     "name": "stdout",
     "output_type": "stream",
     "text": [
      "1\n",
      "3\n",
      "5\n",
      "7\n",
      "9\n",
      "11\n",
      "13\n",
      "15\n",
      "17\n",
      "19\n",
      "21\n",
      "23\n",
      "25\n"
     ]
    }
   ],
   "source": [
    "def odd(n):\n",
    "    if n%2 != 0:\n",
    "        print(n)\n",
    "\n",
    "for i in range(1,26):\n",
    "    odd(i)"
   ]
  },
  {
   "cell_type": "markdown",
   "id": "8e35f192-69f7-44bb-a00e-d67278e31df9",
   "metadata": {},
   "source": [
    "Question 2"
   ]
  },
  {
   "cell_type": "code",
   "execution_count": 3,
   "id": "799c8c5b-2ae7-4e93-a002-bc289f01ac4b",
   "metadata": {},
   "outputs": [
    {
     "name": "stdout",
     "output_type": "stream",
     "text": [
      "3\n",
      "6\n",
      "{'a': 1, 'b': 2}\n",
      "{'a': 1, 'b': 2, 'c': 3}\n"
     ]
    }
   ],
   "source": [
    "def add(*args):#takes multiple input\n",
    "    print(sum(args))\n",
    "\n",
    "def test(**kwargs):#takes key:value as input\n",
    "    print(kwargs)\n",
    "\n",
    "add(1,2)\n",
    "add(1,2,3)\n",
    "test(a=1,b=2)\n",
    "test(a=1,b=2,c=3)"
   ]
  },
  {
   "cell_type": "markdown",
   "id": "1d03efa3-45a8-46b4-911e-567695b62be3",
   "metadata": {},
   "source": [
    "Question 3 and 4"
   ]
  },
  {
   "cell_type": "code",
   "execution_count": 5,
   "id": "c1d6ede3-50eb-454e-b305-c1473511fc33",
   "metadata": {},
   "outputs": [
    {
     "name": "stdout",
     "output_type": "stream",
     "text": [
      "2\n",
      "4\n",
      "6\n",
      "8\n",
      "10\n",
      "2\n",
      "4\n",
      "6\n",
      "8\n",
      "10\n"
     ]
    }
   ],
   "source": [
    "l = [2,4,6,8,10,12,14,16,18,20]\n",
    "\n",
    "iter_l = iter(l)\n",
    "\n",
    "def test2(l):\n",
    "    for i in l:\n",
    "        yield i\n",
    "        \n",
    "var = test2(l)\n",
    "\n",
    "for i in range(5):\n",
    "    print(next(var))\n",
    "            \n",
    "for j in range(5):\n",
    "    print(next(iter_l))"
   ]
  },
  {
   "cell_type": "markdown",
   "id": "88243d1f-0876-41d3-96f3-354a9ffe7b1f",
   "metadata": {},
   "source": [
    "Question 5"
   ]
  },
  {
   "cell_type": "code",
   "execution_count": null,
   "id": "d1d27a92-8436-462d-82d2-2bc194e76733",
   "metadata": {},
   "outputs": [],
   "source": [
    "def prime(n):\n",
    "    if n == 1:\n",
    "        pass\n",
    "    elif n == 2:\n",
    "        return True\n",
    "    else:\n",
    "        for i in range(2,n):\n",
    "            if n%i == 0:\n",
    "                return False\n",
    "        return True\n",
    "    \n",
    "def printprime():\n",
    "    for i in range(2,1000):\n",
    "        if prime(i) == True:\n",
    "            yield i\n",
    "\n",
    "var = printprime()           \n",
    "for i in range(20):\n",
    "    print(next(var))\n",
    "    "
   ]
  },
  {
   "cell_type": "markdown",
   "id": "e0a809ab-0334-485f-9a2f-7833e1df8cad",
   "metadata": {},
   "source": [
    "Question 6"
   ]
  },
  {
   "cell_type": "code",
   "execution_count": 14,
   "id": "a0a9bfe2-7a75-4303-8671-973921582bba",
   "metadata": {},
   "outputs": [
    {
     "name": "stdout",
     "output_type": "stream",
     "text": [
      "0\n",
      "1\n",
      "1\n",
      "2\n",
      "3\n",
      "5\n",
      "8\n",
      "13\n",
      "21\n",
      "34\n"
     ]
    }
   ],
   "source": [
    "def fib(n):\n",
    "    a,b = 0,1\n",
    "    i = 0\n",
    "    while i < n:\n",
    "        yield a\n",
    "        a,b = b,a+b\n",
    "        i += 1\n",
    "        \n",
    "for i in fib(10):\n",
    "    print(i)"
   ]
  },
  {
   "cell_type": "markdown",
   "id": "72345a8c-367d-4208-aebe-b7680976f545",
   "metadata": {},
   "source": [
    "Question 7"
   ]
  },
  {
   "cell_type": "code",
   "execution_count": 16,
   "id": "e7f3d56e-ca6a-4308-9204-ddf5ea3fa6ba",
   "metadata": {},
   "outputs": [
    {
     "name": "stdout",
     "output_type": "stream",
     "text": [
      "['p', 'w', 's', 'k', 'i', 'l', 'l', 's']\n"
     ]
    }
   ],
   "source": [
    "s = \"pwskills\"\n",
    "list = [str(x) for x in s]\n",
    "print(list)"
   ]
  },
  {
   "cell_type": "markdown",
   "id": "7c1390cf-2bc5-4071-aacc-5eebb8881f4a",
   "metadata": {},
   "source": [
    "Question 8"
   ]
  },
  {
   "cell_type": "code",
   "execution_count": 22,
   "id": "a66a3641-5d27-48b4-b9b6-e11bf87ec45e",
   "metadata": {},
   "outputs": [
    {
     "name": "stdout",
     "output_type": "stream",
     "text": [
      "True\n",
      "True\n"
     ]
    }
   ],
   "source": [
    "def pal(m):\n",
    "    n = m\n",
    "    rev_n = 0\n",
    "    l = 1\n",
    "    while(n>0):\n",
    "        rev_n += (n%10)*l\n",
    "        n = n//10\n",
    "        l = l * 10\n",
    "    if m == rev_n:\n",
    "        return True\n",
    "    return False\n",
    "\n",
    "print(pal(1))\n",
    "print(pal(121))"
   ]
  },
  {
   "cell_type": "markdown",
   "id": "1ea6c337-e61c-4e8d-868d-126377652f72",
   "metadata": {},
   "source": [
    "Question 9"
   ]
  },
  {
   "cell_type": "code",
   "execution_count": 25,
   "id": "a7a4f72f-77e4-45dd-abae-4921cc25c835",
   "metadata": {},
   "outputs": [
    {
     "name": "stdout",
     "output_type": "stream",
     "text": [
      "[1, 3, 5, 7, 9, 11, 13, 15, 17, 19, 21, 23, 25, 27, 29, 31, 33, 35, 37, 39, 41, 43, 45, 47, 49, 51, 53, 55, 57, 59, 61, 63, 65, 67, 69, 71, 73, 75, 77, 79, 81, 83, 85, 87, 89, 91, 93, 95, 97, 99]\n"
     ]
    }
   ],
   "source": [
    "oddnum_list = [x for x in range(1,101) if x%2 != 0]\n",
    "print(oddnum_list)"
   ]
  }
 ],
 "metadata": {
  "kernelspec": {
   "display_name": "Python 3 (ipykernel)",
   "language": "python",
   "name": "python3"
  },
  "language_info": {
   "codemirror_mode": {
    "name": "ipython",
    "version": 3
   },
   "file_extension": ".py",
   "mimetype": "text/x-python",
   "name": "python",
   "nbconvert_exporter": "python",
   "pygments_lexer": "ipython3",
   "version": "3.10.8"
  }
 },
 "nbformat": 4,
 "nbformat_minor": 5
}
