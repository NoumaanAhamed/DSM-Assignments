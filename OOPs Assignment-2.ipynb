{
 "cells": [
  {
   "cell_type": "markdown",
   "id": "612264d9-dedb-4aaa-87a2-cc136a3a64fd",
   "metadata": {},
   "source": [
    "Question 1"
   ]
  },
  {
   "cell_type": "code",
   "execution_count": 6,
   "id": "97965d12-7c5c-446b-a6e3-9219ee57b788",
   "metadata": {},
   "outputs": [],
   "source": [
    "#Abstraction - focus on essential features while hiding the implementation details\n",
    "from abc import abstractmethod\n",
    "\n",
    "class Shape:\n",
    "    \n",
    "    @abstractmethod\n",
    "    def area(self):\n",
    "        pass\n",
    "    \n",
    "    @abstractmethod\n",
    "    def perimeter(self):\n",
    "        pass\n",
    "\n",
    "class Square(Shape):\n",
    "    def __init__(self,side_length):\n",
    "        self.side_length = side_length\n",
    "        \n",
    "    def area(self):\n",
    "        return self.side_length * self.side_length\n",
    "    \n",
    "    def perimeter(self):\n",
    "        return 4*self.side_length\n",
    "    \n",
    "class circle(Shape):\n",
    "    def __init__(self,radius):\n",
    "        self.radius = radius\n",
    "        \n",
    "    def area(self):\n",
    "        return 3.14 * self.radius * self.radius\n",
    "    \n",
    "    def perimeter(self):\n",
    "        return 2 * 3.14 * self.radius"
   ]
  },
  {
   "cell_type": "code",
   "execution_count": 9,
   "id": "c0fa4dee-f2a1-4e9c-a6c3-1f43f5b55cc6",
   "metadata": {},
   "outputs": [
    {
     "data": {
      "text/plain": [
       "25"
      ]
     },
     "execution_count": 9,
     "metadata": {},
     "output_type": "execute_result"
    }
   ],
   "source": [
    "sq = Square(5)\n",
    "sq.area()"
   ]
  },
  {
   "cell_type": "code",
   "execution_count": 10,
   "id": "8e7e813f-3e42-49d7-93c4-38ba8343ce00",
   "metadata": {},
   "outputs": [
    {
     "data": {
      "text/plain": [
       "20"
      ]
     },
     "execution_count": 10,
     "metadata": {},
     "output_type": "execute_result"
    }
   ],
   "source": [
    "sq.perimeter()"
   ]
  },
  {
   "cell_type": "code",
   "execution_count": 12,
   "id": "9bc6cafc-edcf-4828-bc45-83135778885f",
   "metadata": {},
   "outputs": [],
   "source": [
    "cir = circle(4)"
   ]
  },
  {
   "cell_type": "code",
   "execution_count": 13,
   "id": "7ffa2c82-afe6-4519-92d1-d2b99244d474",
   "metadata": {},
   "outputs": [
    {
     "data": {
      "text/plain": [
       "25.12"
      ]
     },
     "execution_count": 13,
     "metadata": {},
     "output_type": "execute_result"
    }
   ],
   "source": [
    "cir.perimeter()"
   ]
  },
  {
   "cell_type": "code",
   "execution_count": 14,
   "id": "c5aa14f3-4e3d-4cea-8ba6-f2cabd4a4dbe",
   "metadata": {},
   "outputs": [
    {
     "data": {
      "text/plain": [
       "50.24"
      ]
     },
     "execution_count": 14,
     "metadata": {},
     "output_type": "execute_result"
    }
   ],
   "source": [
    "cir.area()\n"
   ]
  },
  {
   "cell_type": "markdown",
   "id": "6931ec5b-e50e-446f-87a9-0220350eb5aa",
   "metadata": {},
   "source": [
    "Question 2"
   ]
  },
  {
   "cell_type": "code",
   "execution_count": 16,
   "id": "13fd92ff-e54c-41cc-a8e0-6bb9076aeaac",
   "metadata": {},
   "outputs": [],
   "source": [
    "#Abstraction - focus on essential features while hiding the implementation details\n",
    "#Encapsulation - bundling of data and methods into a single unit, called a class.\n",
    "\n",
    "#Example of Encapsulation\n",
    "\n",
    "class Bank:\n",
    "    def __init__(self,balance):\n",
    "        self.__balance = balance\n",
    "        \n",
    "    def check_balance(self):\n",
    "        return self.__balance\n",
    "    \n",
    "    def deposit(self,amount):\n",
    "        self.__balance += amount\n",
    "        \n",
    "    def withdraw(self,amount):\n",
    "        if(self.__balance >= amount):\n",
    "            self.__balance -= amount\n",
    "            return True\n",
    "        else:\n",
    "            return False\n",
    "        "
   ]
  },
  {
   "cell_type": "code",
   "execution_count": 17,
   "id": "4676844d-cc99-44cf-a9d9-95fa0a379717",
   "metadata": {},
   "outputs": [],
   "source": [
    "noumaan = Bank(1000)"
   ]
  },
  {
   "cell_type": "code",
   "execution_count": 18,
   "id": "ede97420-86c3-4148-bb9d-582a593df985",
   "metadata": {},
   "outputs": [
    {
     "data": {
      "text/plain": [
       "1000"
      ]
     },
     "execution_count": 18,
     "metadata": {},
     "output_type": "execute_result"
    }
   ],
   "source": [
    "noumaan.check_balance()"
   ]
  },
  {
   "cell_type": "code",
   "execution_count": 19,
   "id": "d084b3dc-a029-4188-816b-7a27801cb022",
   "metadata": {},
   "outputs": [],
   "source": [
    "noumaan.deposit(2000)"
   ]
  },
  {
   "cell_type": "code",
   "execution_count": 21,
   "id": "a97ab6cf-a0f8-4abf-92c1-14a8a229fb86",
   "metadata": {},
   "outputs": [
    {
     "data": {
      "text/plain": [
       "3000"
      ]
     },
     "execution_count": 21,
     "metadata": {},
     "output_type": "execute_result"
    }
   ],
   "source": [
    "noumaan.check_balance()"
   ]
  },
  {
   "cell_type": "code",
   "execution_count": 22,
   "id": "eb39228a-39db-4b24-b7c6-8ff9ca4ce031",
   "metadata": {},
   "outputs": [
    {
     "data": {
      "text/plain": [
       "True"
      ]
     },
     "execution_count": 22,
     "metadata": {},
     "output_type": "execute_result"
    }
   ],
   "source": [
    "noumaan.withdraw(500)"
   ]
  },
  {
   "cell_type": "code",
   "execution_count": 23,
   "id": "746726a4-d08d-4bb9-86c4-316d33fe4c7c",
   "metadata": {},
   "outputs": [
    {
     "data": {
      "text/plain": [
       "False"
      ]
     },
     "execution_count": 23,
     "metadata": {},
     "output_type": "execute_result"
    }
   ],
   "source": [
    "noumaan.withdraw(3000)"
   ]
  },
  {
   "cell_type": "code",
   "execution_count": 24,
   "id": "234c8f7b-140d-4ea8-bb15-ff80b9a00388",
   "metadata": {},
   "outputs": [
    {
     "data": {
      "text/plain": [
       "2500"
      ]
     },
     "execution_count": 24,
     "metadata": {},
     "output_type": "execute_result"
    }
   ],
   "source": [
    "noumaan.check_balance()"
   ]
  },
  {
   "cell_type": "markdown",
   "id": "6d08d608-2c5f-4fbb-9cc8-ef625ce3699b",
   "metadata": {},
   "source": [
    "Question 3"
   ]
  },
  {
   "cell_type": "code",
   "execution_count": 25,
   "id": "0986a978-7d3b-4b74-b746-a33487dafbaf",
   "metadata": {},
   "outputs": [],
   "source": [
    "#abc module --> for abstract classes "
   ]
  },
  {
   "cell_type": "markdown",
   "id": "f14dae9d-b2ed-4138-a066-4a5a4dc29400",
   "metadata": {},
   "source": [
    "Question 4"
   ]
  },
  {
   "cell_type": "code",
   "execution_count": 26,
   "id": "2a5691dc-53cb-4b89-aaaa-76a135082333",
   "metadata": {},
   "outputs": [],
   "source": [
    "#data abstraction can be achieved by using access modifiers and properties like public,private and protected"
   ]
  },
  {
   "cell_type": "markdown",
   "id": "6d99610f-1b00-43bb-8de1-9082ac857bbf",
   "metadata": {},
   "source": [
    "Question 5"
   ]
  },
  {
   "cell_type": "code",
   "execution_count": 27,
   "id": "d5a316d9-2db7-47f0-9693-6f241a978c57",
   "metadata": {},
   "outputs": [],
   "source": [
    "#No, as abstract classes serve as blueprint for other classes"
   ]
  },
  {
   "cell_type": "code",
   "execution_count": 38,
   "id": "abe657d2-72e6-478c-885a-0fa086ceac07",
   "metadata": {},
   "outputs": [],
   "source": [
    "import abc\n",
    "\n",
    "class abs:\n",
    "    \n",
    "    @abstractmethod\n",
    "    def hello(self):\n",
    "        print(\"Hello\")"
   ]
  },
  {
   "cell_type": "code",
   "execution_count": 39,
   "id": "ff20a736-cc5a-4e36-b5cf-4aa601705a86",
   "metadata": {},
   "outputs": [],
   "source": [
    "a = abs()"
   ]
  },
  {
   "cell_type": "code",
   "execution_count": 40,
   "id": "41645891-6ff8-4b07-9de6-72571cc88911",
   "metadata": {},
   "outputs": [
    {
     "name": "stdout",
     "output_type": "stream",
     "text": [
      "Hello\n"
     ]
    }
   ],
   "source": [
    "a.hello()"
   ]
  },
  {
   "cell_type": "code",
   "execution_count": null,
   "id": "0306f5ac-726e-4d80-ad20-7328a4963991",
   "metadata": {},
   "outputs": [],
   "source": [
    "#but inheriting ABC fives error"
   ]
  },
  {
   "cell_type": "code",
   "execution_count": 41,
   "id": "0e912e71-98ed-4891-ab12-96a92ddbe37f",
   "metadata": {},
   "outputs": [],
   "source": [
    "from abc import ABC,abstractmethod\n",
    "\n",
    "class abs(ABC):\n",
    "    \n",
    "    @abstractmethod\n",
    "    def hello(self):\n",
    "        print(\"Hello\")"
   ]
  },
  {
   "cell_type": "code",
   "execution_count": 42,
   "id": "6df43fe9-fb2a-479a-beed-8f504a18f431",
   "metadata": {},
   "outputs": [
    {
     "ename": "TypeError",
     "evalue": "Can't instantiate abstract class abs with abstract method hello",
     "output_type": "error",
     "traceback": [
      "\u001b[0;31m---------------------------------------------------------------------------\u001b[0m",
      "\u001b[0;31mTypeError\u001b[0m                                 Traceback (most recent call last)",
      "Cell \u001b[0;32mIn[42], line 1\u001b[0m\n\u001b[0;32m----> 1\u001b[0m b \u001b[38;5;241m=\u001b[39m \u001b[38;5;28;43mabs\u001b[39;49m\u001b[43m(\u001b[49m\u001b[43m)\u001b[49m\n",
      "\u001b[0;31mTypeError\u001b[0m: Can't instantiate abstract class abs with abstract method hello"
     ]
    }
   ],
   "source": [
    "b = abs()"
   ]
  },
  {
   "cell_type": "code",
   "execution_count": null,
   "id": "b8ce21f3-a2d8-498d-8609-388f2e3291b6",
   "metadata": {},
   "outputs": [],
   "source": []
  }
 ],
 "metadata": {
  "kernelspec": {
   "display_name": "Python 3 (ipykernel)",
   "language": "python",
   "name": "python3"
  },
  "language_info": {
   "codemirror_mode": {
    "name": "ipython",
    "version": 3
   },
   "file_extension": ".py",
   "mimetype": "text/x-python",
   "name": "python",
   "nbconvert_exporter": "python",
   "pygments_lexer": "ipython3",
   "version": "3.10.8"
  }
 },
 "nbformat": 4,
 "nbformat_minor": 5
}
